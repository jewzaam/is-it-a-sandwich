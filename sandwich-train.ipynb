{
 "cells": [
  {
   "cell_type": "code",
   "execution_count": null,
   "id": "abb0f3b8-4d80-4092-9ba1-65085d2e7aa8",
   "metadata": {
    "tags": []
   },
   "outputs": [],
   "source": [
    "#hidden\n",
    "import socket,warnings\n",
    "try:\n",
    "    socket.setdefaulttimeout(1)\n",
    "    socket.socket(socket.AF_INET, socket.SOCK_STREAM).connect(('1.1.1.1', 53))\n",
    "except socket.error as ex: raise Exception(\"STOP: No internet. Click '>|' in top right and set 'Internet' switch to on\")"
   ]
  },
  {
   "cell_type": "code",
   "execution_count": null,
   "id": "21d59371-6fef-48e0-8c77-e0b5c468bbc7",
   "metadata": {},
   "outputs": [],
   "source": [
    "# the warnings in the libraries used can get old, do not show them\n",
    "import warnings\n",
    "warnings.filterwarnings('ignore')"
   ]
  },
  {
   "cell_type": "code",
   "execution_count": null,
   "id": "f72b41bc-808a-4831-a368-4cc7ff1c9a61",
   "metadata": {
    "tags": []
   },
   "outputs": [],
   "source": [
    "!pip install -Uqq fastai duckduckgo_search"
   ]
  },
  {
   "cell_type": "code",
   "execution_count": null,
   "id": "624794fd-58df-46b8-806f-69a677bcf44a",
   "metadata": {
    "tags": []
   },
   "outputs": [],
   "source": [
    "from duckduckgo_search import DDGS\n",
    "from fastcore.all import *\n",
    "\n",
    "def search_images(term, max_images=30):\n",
    "    print(f\"Searching for {max_images} '{term}' images\")\n",
    "    return L(DDGS().images(term, max_results=max_images)).itemgot('image')    "
   ]
  },
  {
   "cell_type": "code",
   "execution_count": null,
   "id": "ebf84647-69df-48ff-8e6b-99c570d5e3a5",
   "metadata": {
    "tags": []
   },
   "outputs": [],
   "source": [
    "from fastdownload import download_url\n",
    "from fastai.vision.all import *\n",
    "\n",
    "def download_validation_image(term):\n",
    "    urls = search_images(f\"{term} photos\", max_images=5)\n",
    "\n",
    "    dest = f\"validation_data/{term}.jpg\"\n",
    "    i = 0;\n",
    "    try:\n",
    "        # some downloads fail.  we've got 5 attempts to get a good one\n",
    "        while True:\n",
    "            download_url(urls[i], dest, show_progress=False)\n",
    "            break\n",
    "    except:\n",
    "        i = i + 1\n",
    "\n",
    "    im = Image.open(dest)\n",
    "    display(im.to_thumb(256,256))"
   ]
  },
  {
   "cell_type": "markdown",
   "id": "bb86b280-cfe3-4229-9e0d-0c6271b082ec",
   "metadata": {},
   "source": [
    "Make it easier to swap out the model and see how things change by defining a variable to capture the model."
   ]
  },
  {
   "cell_type": "code",
   "execution_count": null,
   "id": "5fba0895-e872-47b5-96fc-1a7d6de21fb2",
   "metadata": {
    "tags": []
   },
   "outputs": [],
   "source": [
    "model=resnet34"
   ]
  },
  {
   "cell_type": "markdown",
   "id": "0320be00-4c51-4e9c-8a1a-ca4c3cfca1f9",
   "metadata": {},
   "source": [
    "Delete any prior training data, since we'll be adjusting size of the data set over time."
   ]
  },
  {
   "cell_type": "code",
   "execution_count": null,
   "id": "793aeeb8-a868-47d2-8d18-e97331d1bcb3",
   "metadata": {
    "tags": []
   },
   "outputs": [],
   "source": [
    "import shutil\n",
    "\n",
    "# start with a clean (empty) set of data\n",
    "shutil.rmtree('training_data', ignore_errors=True)\n",
    "shutil.rmtree('validation_data', ignore_errors=True)"
   ]
  },
  {
   "cell_type": "markdown",
   "id": "f89f9fa9-3dd1-435a-a985-e0098983a384",
   "metadata": {},
   "source": [
    "Initialize a dictionary to capture the data.\n",
    "\n",
    "We'll be doing a few iterations and this supports a simple tabular summary at the end.  And simplifies validation."
   ]
  },
  {
   "cell_type": "code",
   "execution_count": null,
   "id": "b98339d3-9e2c-44fa-9f8e-306c462e2bd6",
   "metadata": {
    "tags": []
   },
   "outputs": [],
   "source": [
    "results = {\n",
    "    \"sandwich\": {},\n",
    "    \"poptart\": {},\n",
    "    \"hot dog\": {},\n",
    "    \"pug\": {},\n",
    "    \"car\": {},\n",
    "    \"salad\": {},\n",
    "    \"tree\": {},\n",
    "    \"pizza\": {},\n",
    "}"
   ]
  },
  {
   "cell_type": "markdown",
   "id": "47cec3b0-abbe-4788-a777-5e4fb79b281a",
   "metadata": {},
   "source": [
    "Load a validation image for each of our samples."
   ]
  },
  {
   "cell_type": "code",
   "execution_count": null,
   "id": "0c6055f2-9a9f-4421-8d43-29bb949d3508",
   "metadata": {
    "tags": []
   },
   "outputs": [],
   "source": [
    "for term in results.keys():\n",
    "    download_validation_image(term)"
   ]
  },
  {
   "cell_type": "markdown",
   "id": "2dc5d2f4-4a1c-4537-aa60-c59a24b56136",
   "metadata": {},
   "source": [
    "Load initial training data."
   ]
  },
  {
   "cell_type": "code",
   "execution_count": null,
   "id": "a3e6b42b-abfd-4b4e-80fc-ebf1bc76023f",
   "metadata": {
    "tags": []
   },
   "outputs": [],
   "source": [
    "import glob\n",
    "import os\n",
    "\n",
    "searches = {\n",
    "    'sandwich': ['sandwich'],\n",
    "    'not sandwich': ['landscape', 'building', 'animal', 'insect', 'person'],\n",
    "}\n",
    "path = Path('training_data')\n",
    "from time import sleep\n",
    "\n",
    "max_images=1000\n",
    "\n",
    "for key in searches:\n",
    "    dest = (path/key)\n",
    "    dest.mkdir(exist_ok=True, parents=True)\n",
    "    images_per_key=int(max_images/len(searches[key]))\n",
    "    for o in searches[key]:\n",
    "        download_images(dest, urls=search_images(f'\"{o}\" photo', images_per_key))\n",
    "        sleep(10)  # Pause between searches to avoid over-loading server (this was in examples.. is it necessary?)\n",
    "    # cleanup images before moving forward\n",
    "    for filename in glob.glob(f\"{dest}/*.avi*\"):\n",
    "        os.remove(filename)\n",
    "    failed = verify_images(get_image_files(dest))\n",
    "    failed.map(Path.unlink)\n",
    "    resize_images(dest, max_size=400, dest=dest)"
   ]
  },
  {
   "cell_type": "markdown",
   "id": "1eb52c5f-fc31-4923-9747-2c39ca9887f5",
   "metadata": {},
   "source": [
    "Build a data block for training with 20% of the data used for validation."
   ]
  },
  {
   "cell_type": "code",
   "execution_count": null,
   "id": "02b9dded-1c3a-4f63-b3c4-30c523517a7d",
   "metadata": {
    "tags": []
   },
   "outputs": [],
   "source": [
    "dls = DataBlock(\n",
    "    blocks=(ImageBlock, CategoryBlock), \n",
    "    get_items=get_image_files, \n",
    "    splitter=RandomSplitter(valid_pct=0.2, seed=42),\n",
    "    get_y=parent_label,\n",
    "    item_tfms=[Resize(192, method='squish')]\n",
    ").dataloaders(path, bs=32)\n",
    "\n",
    "dls.show_batch(max_n=6)"
   ]
  },
  {
   "cell_type": "code",
   "execution_count": null,
   "id": "5fac630e-872c-4161-9a57-a5f54922ba10",
   "metadata": {
    "tags": []
   },
   "outputs": [],
   "source": [
    "learn = vision_learner(dls, model, metrics=accuracy)\n",
    "learn.fine_tune(3)"
   ]
  },
  {
   "cell_type": "code",
   "execution_count": null,
   "id": "87b28886-e77c-43de-9b67-c33175958723",
   "metadata": {},
   "outputs": [],
   "source": [
    "plt.plot(L(learn.recorder.values).itemgot(2));"
   ]
  },
  {
   "cell_type": "code",
   "execution_count": null,
   "id": "08ffa0b7-38cc-4d40-91ce-1fd53386d6e7",
   "metadata": {},
   "outputs": [],
   "source": [
    "interp = ClassificationInterpretation.from_learner(learn)\n",
    "interp.plot_confusion_matrix()"
   ]
  },
  {
   "cell_type": "code",
   "execution_count": null,
   "id": "96759a40-e749-4450-a163-449114600d73",
   "metadata": {
    "tags": []
   },
   "outputs": [],
   "source": [
    "def check_category(test_name=\"default\"):\n",
    "    for term in results.keys():\n",
    "        # get the prediction\n",
    "        dest=f\"validation_data/{term}.jpg\"\n",
    "        category,category_num,probs = learn.predict(PILImage.create(dest))\n",
    "        # show prediction\n",
    "        print(f\"This is a: {category}\")\n",
    "        print(f\"Probability it's a {category}: {probs[category_num]:.4f}\")\n",
    "        # show image\n",
    "        im = Image.open(dest)\n",
    "        display(im.to_thumb(256,256))\n",
    "        # save data for later\n",
    "        if test_name not in results[term]:\n",
    "            results[term][test_name] = {\n",
    "                \"category\": \"\",\n",
    "                \"probability\": \"\",\n",
    "            }\n",
    "        results[term][test_name]['category'] = category\n",
    "        results[term][test_name]['probability'] = f\"{probs[category_num]:.4f}\""
   ]
  },
  {
   "cell_type": "code",
   "execution_count": null,
   "id": "c5910969-f459-4a5b-ae95-34de6d0e212f",
   "metadata": {
    "tags": []
   },
   "outputs": [],
   "source": [
    "check_category()"
   ]
  },
  {
   "cell_type": "code",
   "execution_count": null,
   "id": "a54f7543-be02-4970-a6ff-e9ac925a53d6",
   "metadata": {
    "tags": []
   },
   "outputs": [],
   "source": [
    "import pandas as pd\n",
    "col=[] # use list so we keep order\n",
    "data = {}\n",
    "for term in results.keys():\n",
    "    if term not in data:\n",
    "        data[term] = []\n",
    "    for test in results[term]:\n",
    "        if test not in col:\n",
    "            col.append(test)\n",
    "        data[term].append(f\"{results[term][test]['category']} ({float(results[term][test]['probability'])*100:.0f}%)\")\n",
    "pd.DataFrame(data.values(), index=data.keys(), columns=list(col))"
   ]
  },
  {
   "cell_type": "markdown",
   "id": "bd73a681-7030-4ac4-96a8-19df7e46e3a0",
   "metadata": {},
   "source": [
    "export the model so we can run an app"
   ]
  },
  {
   "cell_type": "code",
   "execution_count": null,
   "id": "3186b798-0c54-4765-b20c-60095fa8a700",
   "metadata": {},
   "outputs": [],
   "source": [
    "learn.export(fname=\"sandwich.pkl\")"
   ]
  },
  {
   "cell_type": "code",
   "execution_count": null,
   "id": "86937ebf-6975-4f7f-8f1a-12a5921ae58c",
   "metadata": {},
   "outputs": [],
   "source": []
  }
 ],
 "metadata": {
  "kernelspec": {
   "display_name": "Python 3 (ipykernel)",
   "language": "python",
   "name": "python3"
  },
  "language_info": {
   "codemirror_mode": {
    "name": "ipython",
    "version": 3
   },
   "file_extension": ".py",
   "mimetype": "text/x-python",
   "name": "python",
   "nbconvert_exporter": "python",
   "pygments_lexer": "ipython3",
   "version": "3.9.18"
  }
 },
 "nbformat": 4,
 "nbformat_minor": 5
}
