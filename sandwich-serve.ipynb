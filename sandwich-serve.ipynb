{
 "cells": [
  {
   "cell_type": "code",
   "execution_count": null,
   "id": "a74d55c4-b20b-40e4-8c9f-386925e9ea02",
   "metadata": {},
   "outputs": [],
   "source": [
    "#|default_exp app"
   ]
  },
  {
   "cell_type": "code",
   "execution_count": null,
   "id": "df79f45e-c713-4af2-be3a-93b2e7760715",
   "metadata": {},
   "outputs": [],
   "source": [
    "#hidden\n",
    "import socket,warnings\n",
    "try:\n",
    "    socket.setdefaulttimeout(1)\n",
    "    socket.socket(socket.AF_INET, socket.SOCK_STREAM).connect(('1.1.1.1', 53))\n",
    "except socket.error as ex: raise Exception(\"STOP: No internet. Click '>|' in top right and set 'Internet' switch to on\")"
   ]
  },
  {
   "cell_type": "code",
   "execution_count": null,
   "id": "b44f6cea-8c8a-459d-b5a5-c84a6e5c5590",
   "metadata": {},
   "outputs": [],
   "source": [
    "# the warnings in the libraries used can get old, do not show them\n",
    "import warnings\n",
    "warnings.filterwarnings('ignore')"
   ]
  },
  {
   "cell_type": "code",
   "execution_count": null,
   "id": "7b6218a1-72df-4b2b-84fb-ee4682fca74b",
   "metadata": {},
   "outputs": [],
   "source": [
    "!pip install -Uqq \"gradio==3.50\""
   ]
  },
  {
   "cell_type": "code",
   "execution_count": null,
   "id": "4dcf9cd1-0769-4afd-b499-4155c0fb52d8",
   "metadata": {},
   "outputs": [],
   "source": [
    "#|export\n",
    "from fastai.vision.all import *\n",
    "import gradio as gr"
   ]
  },
  {
   "cell_type": "code",
   "execution_count": null,
   "id": "596134d2-4b77-44c4-be43-61f68b589000",
   "metadata": {},
   "outputs": [],
   "source": [
    "#|export\n",
    "learn = load_learner('sandwich.pkl')"
   ]
  },
  {
   "cell_type": "code",
   "execution_count": null,
   "id": "3c187665-98a9-43a1-aaf1-aaa08824cc37",
   "metadata": {},
   "outputs": [],
   "source": [
    "#|export\n",
    "categories = learn.dls.vocab\n",
    "\n",
    "def classify_image(img):\n",
    "    pred,idx,probs = learn.predict(img)\n",
    "    return dict(zip(categories, map(float,probs)))"
   ]
  },
  {
   "cell_type": "code",
   "execution_count": null,
   "id": "1c12949a-a698-4674-9a6b-fe22089e9c0f",
   "metadata": {},
   "outputs": [],
   "source": [
    "classify_image('example_data/pizza.jpg')"
   ]
  },
  {
   "cell_type": "code",
   "execution_count": null,
   "id": "dd6c2e1c-8287-49c2-bbda-218ebb1352d6",
   "metadata": {},
   "outputs": [],
   "source": [
    "?get_image_files"
   ]
  },
  {
   "cell_type": "code",
   "execution_count": null,
   "id": "cb756234-915e-4665-9fd9-5bc954bcd33d",
   "metadata": {},
   "outputs": [],
   "source": [
    "list(map(str, get_image_files(\"example_data\")))"
   ]
  },
  {
   "cell_type": "markdown",
   "id": "2d46be46-e244-4432-9ab1-f2a383219904",
   "metadata": {},
   "source": [
    "This next step will start the server.  The kernel will have to be stopped when running in a notebook."
   ]
  },
  {
   "cell_type": "code",
   "execution_count": null,
   "id": "2f418bad-56a2-46ad-a2ee-a5d0966f1fb0",
   "metadata": {},
   "outputs": [],
   "source": [
    "#|export\n",
    "image = gr.inputs.Image(shape=(192,192))\n",
    "label = gr.outputs.Label()\n",
    "examples = list(map(str, get_image_files(\"example_data\")))\n",
    "\n",
    "intf = gr.Interface(fn=classify_image, inputs=image, outputs=label, examples=examples)\n",
    "intf.launch(inline=False)"
   ]
  },
  {
   "cell_type": "markdown",
   "id": "515c5d19-c118-4ecc-9777-2c59809a9ae9",
   "metadata": {},
   "source": [
    "# Export!"
   ]
  },
  {
   "cell_type": "code",
   "execution_count": null,
   "id": "6e2176f3-ca4b-47c0-9692-3d30234ac8c1",
   "metadata": {},
   "outputs": [],
   "source": [
    "!pip install -Uqq nbdev"
   ]
  },
  {
   "cell_type": "code",
   "execution_count": null,
   "id": "d691c4a0-f63b-4721-87e0-a6e217b17b0a",
   "metadata": {},
   "outputs": [],
   "source": [
    "import nbdev\n",
    "\n",
    "nbdev.export.nb_export('sandwich-serve.ipynb', 'sandwich')"
   ]
  },
  {
   "cell_type": "code",
   "execution_count": null,
   "id": "e3dd63ed-a4b0-4d4f-82e2-c111d8a77891",
   "metadata": {},
   "outputs": [],
   "source": []
  }
 ],
 "metadata": {
  "kernelspec": {
   "display_name": "Python 3 (ipykernel)",
   "language": "python",
   "name": "python3"
  },
  "language_info": {
   "codemirror_mode": {
    "name": "ipython",
    "version": 3
   },
   "file_extension": ".py",
   "mimetype": "text/x-python",
   "name": "python",
   "nbconvert_exporter": "python",
   "pygments_lexer": "ipython3",
   "version": "3.9.18"
  }
 },
 "nbformat": 4,
 "nbformat_minor": 5
}
